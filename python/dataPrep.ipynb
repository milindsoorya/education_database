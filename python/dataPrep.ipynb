{
 "cells": [
  {
   "cell_type": "code",
   "execution_count": 1,
   "metadata": {},
   "outputs": [],
   "source": [
    "import pandas as pd"
   ]
  },
  {
   "cell_type": "code",
   "execution_count": 3,
   "metadata": {},
   "outputs": [
    {
     "data": {
      "text/html": [
       "<div>\n",
       "<style scoped>\n",
       "    .dataframe tbody tr th:only-of-type {\n",
       "        vertical-align: middle;\n",
       "    }\n",
       "\n",
       "    .dataframe tbody tr th {\n",
       "        vertical-align: top;\n",
       "    }\n",
       "\n",
       "    .dataframe thead th {\n",
       "        text-align: right;\n",
       "    }\n",
       "</style>\n",
       "<table border=\"1\" class=\"dataframe\">\n",
       "  <thead>\n",
       "    <tr style=\"text-align: right;\">\n",
       "      <th></th>\n",
       "      <th>historyId</th>\n",
       "      <th>historyUid</th>\n",
       "      <th>userUid</th>\n",
       "      <th>onlineCourseUid</th>\n",
       "      <th>grade</th>\n",
       "      <th>gradeMaxVal</th>\n",
       "      <th>completed</th>\n",
       "      <th>pct</th>\n",
       "    </tr>\n",
       "  </thead>\n",
       "  <tbody>\n",
       "    <tr>\n",
       "      <th>0</th>\n",
       "      <td>1</td>\n",
       "      <td>6156902c-af7b-11eb-9cf0-d040cf4d1583</td>\n",
       "      <td>d215bfdb-4713-41c4-be6e-fad4e563ba3f</td>\n",
       "      <td>c0f44be8-af79-11eb-9cf0-d040cf4d1583</td>\n",
       "      <td>100</td>\n",
       "      <td>100</td>\n",
       "      <td>25/5/2019 17:24:19</td>\n",
       "      <td>1.00</td>\n",
       "    </tr>\n",
       "    <tr>\n",
       "      <th>1</th>\n",
       "      <td>2</td>\n",
       "      <td>61563fb4-af7b-11eb-9cf0-d040cf4d1583</td>\n",
       "      <td>bba0fa8a-1d7b-4b7b-ba8a-8ab3e89ba0c7</td>\n",
       "      <td>c0f44954-af79-11eb-9cf0-d040cf4d1583</td>\n",
       "      <td>87</td>\n",
       "      <td>100</td>\n",
       "      <td>8/4/2019 08:24:31</td>\n",
       "      <td>0.87</td>\n",
       "    </tr>\n",
       "    <tr>\n",
       "      <th>2</th>\n",
       "      <td>3</td>\n",
       "      <td>6157089a-af7b-11eb-9cf0-d040cf4d1583</td>\n",
       "      <td>f649b20f-5735-4972-bc00-53e73b20ccf1</td>\n",
       "      <td>c0f44ddc-af79-11eb-9cf0-d040cf4d1583</td>\n",
       "      <td>15</td>\n",
       "      <td>50</td>\n",
       "      <td>7/9/2018 04:31:46</td>\n",
       "      <td>0.30</td>\n",
       "    </tr>\n",
       "    <tr>\n",
       "      <th>3</th>\n",
       "      <td>4</td>\n",
       "      <td>61569496-af7b-11eb-9cf0-d040cf4d1583</td>\n",
       "      <td>d41fb661-bf7e-4639-a3fb-c55c2a41f0c9</td>\n",
       "      <td>c0f44954-af79-11eb-9cf0-d040cf4d1583</td>\n",
       "      <td>100</td>\n",
       "      <td>100</td>\n",
       "      <td>12/9/2019 03:55:01</td>\n",
       "      <td>1.00</td>\n",
       "    </tr>\n",
       "    <tr>\n",
       "      <th>4</th>\n",
       "      <td>5</td>\n",
       "      <td>61572384-af7b-11eb-9cf0-d040cf4d1583</td>\n",
       "      <td>fddac3eb-34ee-4531-a868-fb9f4a755c1f</td>\n",
       "      <td>c0f44ddc-af79-11eb-9cf0-d040cf4d1583</td>\n",
       "      <td>100</td>\n",
       "      <td>100</td>\n",
       "      <td>25/11/2019 19:33:12</td>\n",
       "      <td>1.00</td>\n",
       "    </tr>\n",
       "  </tbody>\n",
       "</table>\n",
       "</div>"
      ],
      "text/plain": [
       "   historyId                            historyUid  \\\n",
       "0          1  6156902c-af7b-11eb-9cf0-d040cf4d1583   \n",
       "1          2  61563fb4-af7b-11eb-9cf0-d040cf4d1583   \n",
       "2          3  6157089a-af7b-11eb-9cf0-d040cf4d1583   \n",
       "3          4  61569496-af7b-11eb-9cf0-d040cf4d1583   \n",
       "4          5  61572384-af7b-11eb-9cf0-d040cf4d1583   \n",
       "\n",
       "                                userUid                       onlineCourseUid  \\\n",
       "0  d215bfdb-4713-41c4-be6e-fad4e563ba3f  c0f44be8-af79-11eb-9cf0-d040cf4d1583   \n",
       "1  bba0fa8a-1d7b-4b7b-ba8a-8ab3e89ba0c7  c0f44954-af79-11eb-9cf0-d040cf4d1583   \n",
       "2  f649b20f-5735-4972-bc00-53e73b20ccf1  c0f44ddc-af79-11eb-9cf0-d040cf4d1583   \n",
       "3  d41fb661-bf7e-4639-a3fb-c55c2a41f0c9  c0f44954-af79-11eb-9cf0-d040cf4d1583   \n",
       "4  fddac3eb-34ee-4531-a868-fb9f4a755c1f  c0f44ddc-af79-11eb-9cf0-d040cf4d1583   \n",
       "\n",
       "   grade  gradeMaxVal            completed   pct  \n",
       "0    100          100   25/5/2019 17:24:19  1.00  \n",
       "1     87          100    8/4/2019 08:24:31  0.87  \n",
       "2     15           50    7/9/2018 04:31:46  0.30  \n",
       "3    100          100   12/9/2019 03:55:01  1.00  \n",
       "4    100          100  25/11/2019 19:33:12  1.00  "
      ]
     },
     "execution_count": 3,
     "metadata": {},
     "output_type": "execute_result"
    }
   ],
   "source": [
    "df_online_history = pd.read_csv('UserOnlineHistory.csv')\n",
    "df_online_history.head()"
   ]
  },
  {
   "cell_type": "code",
   "execution_count": 4,
   "metadata": {},
   "outputs": [],
   "source": [
    "#  MySQL expects the date to be in the format YYYY-MM-DD HH:MM:SS, CSV have dates in the format DD/MM/YYYY HH:MM:SS.\n",
    "\n",
    "df_online_history['completed'] = pd.to_datetime(df_online_history['completed'], format='%d/%m/%Y %H:%M:%S')"
   ]
  },
  {
   "cell_type": "code",
   "execution_count": 6,
   "metadata": {},
   "outputs": [],
   "source": [
    "df_online_history.to_csv('UserOnlineHistory_fixed.csv', index=False)"
   ]
  }
 ],
 "metadata": {
  "kernelspec": {
   "display_name": "v3",
   "language": "python",
   "name": "python3"
  },
  "language_info": {
   "codemirror_mode": {
    "name": "ipython",
    "version": 3
   },
   "file_extension": ".py",
   "mimetype": "text/x-python",
   "name": "python",
   "nbconvert_exporter": "python",
   "pygments_lexer": "ipython3",
   "version": "3.9.18"
  }
 },
 "nbformat": 4,
 "nbformat_minor": 2
}
